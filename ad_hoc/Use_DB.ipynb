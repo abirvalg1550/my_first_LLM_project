{
 "cells": [
  {
   "cell_type": "code",
   "execution_count": 1,
   "id": "c6622548-efe6-45b7-bcc0-d01c0bd0c029",
   "metadata": {},
   "outputs": [],
   "source": [
    "#!pip install -r requirements.txt"
   ]
  },
  {
   "cell_type": "code",
   "execution_count": 2,
   "id": "8644695e-3524-4c95-80b1-f446b3692c5a",
   "metadata": {},
   "outputs": [],
   "source": [
    "#!pip install -U sentence-transformers"
   ]
  },
  {
   "cell_type": "code",
   "execution_count": 3,
   "id": "daaffc2d-9350-41d5-95a8-12d2311e0bda",
   "metadata": {},
   "outputs": [],
   "source": [
    "#!pip install -U  langchain_huggingface "
   ]
  },
  {
   "cell_type": "code",
   "execution_count": 4,
   "id": "b1666672-3158-43d0-9e9e-5be29b6b4af2",
   "metadata": {},
   "outputs": [],
   "source": [
    "from langchain_huggingface import HuggingFaceEmbeddings\n",
    "from typing import List\n",
    "from langchain.schema import Document\n",
    "from langchain_community.document_loaders import DirectoryLoader\n",
    "from langchain.text_splitter import RecursiveCharacterTextSplitter\n",
    "from langchain_community.vectorstores import Chroma\n"
   ]
  },
  {
   "cell_type": "code",
   "execution_count": 5,
   "id": "f1d23a70-d61d-4b7f-abb9-39de7f6607fd",
   "metadata": {},
   "outputs": [],
   "source": [
    "model_path = 'sentence-transformers/all-MiniLM-L6-v2'\n",
    "CHROMA_PATH = \"chroma_db\""
   ]
  },
  {
   "cell_type": "code",
   "execution_count": 6,
   "id": "cc8f4766-b2b1-42e3-90ad-9e015ee95e7c",
   "metadata": {},
   "outputs": [],
   "source": [
    "embeddings = HuggingFaceEmbeddings(model_name=model_path)"
   ]
  },
  {
   "cell_type": "code",
   "execution_count": 7,
   "id": "bf2b6a81-0552-492d-b729-50f043a1ca3a",
   "metadata": {},
   "outputs": [
    {
     "name": "stderr",
     "output_type": "stream",
     "text": [
      "Failed to send telemetry event ClientStartEvent: capture() takes 1 positional argument but 3 were given\n",
      "Failed to send telemetry event ClientCreateCollectionEvent: capture() takes 1 positional argument but 3 were given\n"
     ]
    }
   ],
   "source": [
    "db =  Chroma( persist_directory=\"./chroma_db\",embedding_function=embeddings)"
   ]
  },
  {
   "cell_type": "code",
   "execution_count": 11,
   "id": "49a96804-eed4-4389-98b4-93a8c29c200a",
   "metadata": {},
   "outputs": [
    {
     "data": {
      "text/plain": [
       "[Document(metadata={'source': 'data/books/alice_in_wonderland.md', 'start_index': 70057}, page_content='Alice waited a little, half expecting to see it again, but it did not\\nappear, and after a minute or two she walked on in the direction in\\nwhich the March Hare was said to live. “I’ve seen hatters before,” she\\nsaid to herself; “the March Hare will be much the most interesting, and'),\n",
       " Document(metadata={'source': 'data/books/alice_in_wonderland.md', 'start_index': 70057}, page_content='Alice waited a little, half expecting to see it again, but it did not\\nappear, and after a minute or two she walked on in the direction in\\nwhich the March Hare was said to live. “I’ve seen hatters before,” she\\nsaid to herself; “the March Hare will be much the most interesting, and'),\n",
       " Document(metadata={'source': 'data/books/alice_in_wonderland.md', 'start_index': 82827}, page_content='“Really, now you ask me,” said Alice, very much confused, “I don’t\\nthink—”\\n\\n“Then you shouldn’t talk,” said the Hatter.'),\n",
       " Document(metadata={'source': 'data/books/alice_in_wonderland.md', 'start_index': 82827}, page_content='“Really, now you ask me,” said Alice, very much confused, “I don’t\\nthink—”\\n\\n“Then you shouldn’t talk,” said the Hatter.')]"
      ]
     },
     "execution_count": 11,
     "metadata": {},
     "output_type": "execute_result"
    }
   ],
   "source": [
    "db.similarity_search(query = 'Where did Alice meet the Mad Hatter?', )"
   ]
  },
  {
   "cell_type": "code",
   "execution_count": 10,
   "id": "12c46310-cac4-4c37-a778-595e3582c66a",
   "metadata": {},
   "outputs": [
    {
     "data": {
      "text/plain": [
       "[Document(metadata={'source': 'data/books/alice_in_wonderland.md', 'start_index': 71580}, page_content='There was a table set out under a tree in front of the house, and the\\nMarch Hare and the Hatter were having tea at it: a Dormouse was sitting\\nbetween them, fast asleep, and the other two were using it as a\\ncushion, resting their elbows on it, and talking over its head. “Very'),\n",
       " Document(metadata={'source': 'data/books/alice_in_wonderland.md', 'start_index': 71580}, page_content='There was a table set out under a tree in front of the house, and the\\nMarch Hare and the Hatter were having tea at it: a Dormouse was sitting\\nbetween them, fast asleep, and the other two were using it as a\\ncushion, resting their elbows on it, and talking over its head. “Very'),\n",
       " Document(metadata={'source': 'data/books/alice_in_wonderland.md', 'start_index': 77662}, page_content='‘Up above the world you fly,\\nLike a tea-tray in the sky.\\nTwinkle, twinkle—’”\\n\\nHere the Dormouse shook itself, and began singing in its sleep\\n“Twinkle, twinkle, twinkle, twinkle—” and went on so long that they\\nhad to pinch it to make it stop.'),\n",
       " Document(metadata={'source': 'data/books/alice_in_wonderland.md', 'start_index': 77662}, page_content='‘Up above the world you fly,\\nLike a tea-tray in the sky.\\nTwinkle, twinkle—’”\\n\\nHere the Dormouse shook itself, and began singing in its sleep\\n“Twinkle, twinkle, twinkle, twinkle—” and went on so long that they\\nhad to pinch it to make it stop.')]"
      ]
     },
     "execution_count": 10,
     "metadata": {},
     "output_type": "execute_result"
    }
   ],
   "source": [
    "db.similarity_search(query = 'Где Алиса встретила сумасшедшего шляпника?', )"
   ]
  }
 ],
 "metadata": {
  "kernelspec": {
   "display_name": "Python 3 (ipykernel)",
   "language": "python",
   "name": "python3"
  },
  "language_info": {
   "codemirror_mode": {
    "name": "ipython",
    "version": 3
   },
   "file_extension": ".py",
   "mimetype": "text/x-python",
   "name": "python",
   "nbconvert_exporter": "python",
   "pygments_lexer": "ipython3",
   "version": "3.12.3"
  }
 },
 "nbformat": 4,
 "nbformat_minor": 5
}
