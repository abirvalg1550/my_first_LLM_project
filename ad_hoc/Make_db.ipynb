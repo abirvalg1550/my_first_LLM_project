{
 "cells": [
  {
   "cell_type": "code",
   "execution_count": 1,
   "id": "c6622548-efe6-45b7-bcc0-d01c0bd0c029",
   "metadata": {},
   "outputs": [],
   "source": [
    "#!pip install -r requirements.txt"
   ]
  },
  {
   "cell_type": "code",
   "execution_count": 2,
   "id": "8644695e-3524-4c95-80b1-f446b3692c5a",
   "metadata": {},
   "outputs": [],
   "source": [
    "#!pip install -U sentence-transformers"
   ]
  },
  {
   "cell_type": "code",
   "execution_count": 3,
   "id": "daaffc2d-9350-41d5-95a8-12d2311e0bda",
   "metadata": {},
   "outputs": [],
   "source": [
    "#!pip install -U  langchain_huggingface "
   ]
  },
  {
   "cell_type": "code",
   "execution_count": 4,
   "id": "b1666672-3158-43d0-9e9e-5be29b6b4af2",
   "metadata": {},
   "outputs": [],
   "source": [
    "from langchain_huggingface import HuggingFaceEmbeddings\n",
    "from typing import List\n",
    "from langchain.schema import Document\n",
    "from langchain_community.document_loaders import DirectoryLoader\n",
    "from langchain.text_splitter import RecursiveCharacterTextSplitter\n",
    "from langchain_community.vectorstores import Chroma\n"
   ]
  },
  {
   "cell_type": "code",
   "execution_count": 5,
   "id": "f1d23a70-d61d-4b7f-abb9-39de7f6607fd",
   "metadata": {},
   "outputs": [],
   "source": [
    "model_path = 'sentence-transformers/all-MiniLM-L6-v2'\n",
    "DATA_PATH = 'data/books'\n",
    "CHROMA_PATH = \"chroma\""
   ]
  },
  {
   "cell_type": "code",
   "execution_count": 6,
   "id": "cc8f4766-b2b1-42e3-90ad-9e015ee95e7c",
   "metadata": {},
   "outputs": [],
   "source": [
    "embeddings = HuggingFaceEmbeddings(model_name=model_path)"
   ]
  },
  {
   "cell_type": "code",
   "execution_count": 7,
   "id": "140e0ac9-7ecf-4e32-897c-d0c2f9ee5a37",
   "metadata": {},
   "outputs": [],
   "source": [
    "class MyEmbeddings:\n",
    "    def __init__(self):\n",
    "        self.model = SentenceTransformer(\"sentence-transformers/all-MiniLM-L6-v2\")\n",
    "\n",
    "    def embed_documents(self, texts: List[str]) -> List[List[float]]:\n",
    "        return [self.model.encode(t).tolist() for t in texts]"
   ]
  },
  {
   "cell_type": "code",
   "execution_count": 8,
   "id": "186f57bd-4a9a-467d-9191-4df97cbd80bc",
   "metadata": {},
   "outputs": [],
   "source": [
    "def load_documents():\n",
    "    loader = DirectoryLoader(DATA_PATH, glob=\"*.md\")\n",
    "    documents = loader.load()\n",
    "    return documents"
   ]
  },
  {
   "cell_type": "code",
   "execution_count": 9,
   "id": "3a4ad4e0-4b70-4989-8e26-b4135b5fc6e1",
   "metadata": {},
   "outputs": [],
   "source": [
    "def split_text(documents: list[Document]):\n",
    "    text_splitter = RecursiveCharacterTextSplitter(\n",
    "        chunk_size=300,\n",
    "        chunk_overlap=100,\n",
    "        length_function=len,\n",
    "        add_start_index=True,\n",
    "    )\n",
    "    chunks = text_splitter.split_documents(documents)\n",
    "    print(f\"Split {len(documents)} documents into {len(chunks)} chunks.\")\n",
    "\n",
    "    document = chunks[10]\n",
    "    print(document.page_content)\n",
    "    print(document.metadata)\n",
    "\n",
    "    return chunks"
   ]
  },
  {
   "cell_type": "code",
   "execution_count": 10,
   "id": "4925fc5d-f438-49bd-8f0f-a0f75f082b5e",
   "metadata": {},
   "outputs": [],
   "source": [
    "documents = load_documents()"
   ]
  },
  {
   "cell_type": "code",
   "execution_count": 11,
   "id": "68ac4d9f-dfbe-4c85-8c85-8410bd07f9bc",
   "metadata": {},
   "outputs": [
    {
     "name": "stdout",
     "output_type": "stream",
     "text": [
      "Split 1 documents into 801 chunks.\n",
      "So she was considering in her own mind (as well as she could, for the\n",
      "hot day made her feel very sleepy and stupid), whether the pleasure of\n",
      "making a daisy-chain would be worth the trouble of getting up and\n",
      "picking the daisies, when suddenly a White Rabbit with pink eyes ran\n",
      "close by her.\n",
      "{'source': 'data/books/alice_in_wonderland.md', 'start_index': 1654}\n"
     ]
    }
   ],
   "source": [
    "chunks = split_text(documents)"
   ]
  },
  {
   "cell_type": "code",
   "execution_count": 12,
   "id": "ad073934-c26e-496c-b336-344fabaf290c",
   "metadata": {},
   "outputs": [
    {
     "name": "stderr",
     "output_type": "stream",
     "text": [
      "Failed to send telemetry event ClientStartEvent: capture() takes 1 positional argument but 3 were given\n",
      "Failed to send telemetry event ClientCreateCollectionEvent: capture() takes 1 positional argument but 3 were given\n"
     ]
    }
   ],
   "source": [
    "db = Chroma.from_documents(chunks, embedding=embeddings,persist_directory=\"./chroma_db\")\n",
    "retriever = db.as_retriever(\n",
    "    search_type=\"mmr\",  # Also test \"similarity\"\n",
    "    search_kwargs={\"k\": 20},\n",
    "    persist_directory=\"./chroma_db\" #директория в которой будут размещаться фаилы\n",
    ")"
   ]
  },
  {
   "cell_type": "code",
   "execution_count": null,
   "id": "7c7e7a5c-51f9-41d6-bc65-86c064d2da25",
   "metadata": {},
   "outputs": [],
   "source": []
  },
  {
   "cell_type": "code",
   "execution_count": 13,
   "id": "65e1e261-197d-4d0a-ba29-791e15f9142a",
   "metadata": {},
   "outputs": [
    {
     "name": "stderr",
     "output_type": "stream",
     "text": [
      "Failed to send telemetry event CollectionQueryEvent: capture() takes 1 positional argument but 3 were given\n"
     ]
    },
    {
     "data": {
      "text/plain": [
       "[Document(metadata={'source': 'data/books/alice_in_wonderland.md', 'start_index': 82827}, page_content='“Really, now you ask me,” said Alice, very much confused, “I don’t\\nthink—”\\n\\n“Then you shouldn’t talk,” said the Hatter.'),\n",
       " Document(metadata={'source': 'data/books/alice_in_wonderland.md', 'start_index': 82827}, page_content='“Really, now you ask me,” said Alice, very much confused, “I don’t\\nthink—”\\n\\n“Then you shouldn’t talk,” said the Hatter.'),\n",
       " Document(metadata={'source': 'data/books/alice_in_wonderland.md', 'start_index': 70057}, page_content='Alice waited a little, half expecting to see it again, but it did not\\nappear, and after a minute or two she walked on in the direction in\\nwhich the March Hare was said to live. “I’ve seen hatters before,” she\\nsaid to herself; “the March Hare will be much the most interesting, and'),\n",
       " Document(metadata={'source': 'data/books/alice_in_wonderland.md', 'start_index': 70057}, page_content='Alice waited a little, half expecting to see it again, but it did not\\nappear, and after a minute or two she walked on in the direction in\\nwhich the March Hare was said to live. “I’ve seen hatters before,” she\\nsaid to herself; “the March Hare will be much the most interesting, and')]"
      ]
     },
     "execution_count": 13,
     "metadata": {},
     "output_type": "execute_result"
    }
   ],
   "source": [
    "db.similarity_search(query = 'How did Alice meet the Mad Hatter?')"
   ]
  },
  {
   "cell_type": "code",
   "execution_count": 14,
   "id": "bf2b6a81-0552-492d-b729-50f043a1ca3a",
   "metadata": {},
   "outputs": [
    {
     "name": "stderr",
     "output_type": "stream",
     "text": [
      "Failed to send telemetry event ClientStartEvent: capture() takes 1 positional argument but 3 were given\n",
      "Failed to send telemetry event ClientCreateCollectionEvent: capture() takes 1 positional argument but 3 were given\n"
     ]
    }
   ],
   "source": [
    "db3 =  Chroma( persist_directory=\"./chroma_db\",embedding_function=embeddings)"
   ]
  },
  {
   "cell_type": "code",
   "execution_count": 15,
   "id": "49a96804-eed4-4389-98b4-93a8c29c200a",
   "metadata": {},
   "outputs": [
    {
     "data": {
      "text/plain": [
       "[Document(metadata={'source': 'data/books/alice_in_wonderland.md', 'start_index': 82827}, page_content='“Really, now you ask me,” said Alice, very much confused, “I don’t\\nthink—”\\n\\n“Then you shouldn’t talk,” said the Hatter.'),\n",
       " Document(metadata={'source': 'data/books/alice_in_wonderland.md', 'start_index': 82827}, page_content='“Really, now you ask me,” said Alice, very much confused, “I don’t\\nthink—”\\n\\n“Then you shouldn’t talk,” said the Hatter.'),\n",
       " Document(metadata={'source': 'data/books/alice_in_wonderland.md', 'start_index': 70057}, page_content='Alice waited a little, half expecting to see it again, but it did not\\nappear, and after a minute or two she walked on in the direction in\\nwhich the March Hare was said to live. “I’ve seen hatters before,” she\\nsaid to herself; “the March Hare will be much the most interesting, and'),\n",
       " Document(metadata={'source': 'data/books/alice_in_wonderland.md', 'start_index': 70057}, page_content='Alice waited a little, half expecting to see it again, but it did not\\nappear, and after a minute or two she walked on in the direction in\\nwhich the March Hare was said to live. “I’ve seen hatters before,” she\\nsaid to herself; “the March Hare will be much the most interesting, and')]"
      ]
     },
     "execution_count": 15,
     "metadata": {},
     "output_type": "execute_result"
    }
   ],
   "source": [
    "db3.similarity_search(query = 'How did Alice meet the Mad Hatter?', )"
   ]
  },
  {
   "cell_type": "code",
   "execution_count": null,
   "id": "12c46310-cac4-4c37-a778-595e3582c66a",
   "metadata": {},
   "outputs": [],
   "source": []
  }
 ],
 "metadata": {
  "kernelspec": {
   "display_name": "Python 3 (ipykernel)",
   "language": "python",
   "name": "python3"
  },
  "language_info": {
   "codemirror_mode": {
    "name": "ipython",
    "version": 3
   },
   "file_extension": ".py",
   "mimetype": "text/x-python",
   "name": "python",
   "nbconvert_exporter": "python",
   "pygments_lexer": "ipython3",
   "version": "3.12.3"
  }
 },
 "nbformat": 4,
 "nbformat_minor": 5
}
